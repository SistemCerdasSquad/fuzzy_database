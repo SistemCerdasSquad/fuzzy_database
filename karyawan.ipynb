{
 "cells": [
  {
   "cell_type": "markdown",
   "metadata": {},
   "source": [
    "# Koneksi Database"
   ]
  },
  {
   "cell_type": "code",
   "execution_count": 1,
   "metadata": {},
   "outputs": [],
   "source": [
    "import MySQLdb\n",
    " \n",
    "db = MySQLdb.connect(host=\"localhost\",  # your host \n",
    "                     user=\"root\",       # username\n",
    "                     passwd=\"masrestu\",     # password\n",
    "                     db=\"fuzzy\")   # name of the database"
   ]
  },
  {
   "cell_type": "markdown",
   "metadata": {},
   "source": [
    "# Membuat Objek untuk Execute SQL"
   ]
  },
  {
   "cell_type": "code",
   "execution_count": 2,
   "metadata": {},
   "outputs": [],
   "source": [
    "sql = db.cursor()"
   ]
  },
  {
   "cell_type": "markdown",
   "metadata": {},
   "source": [
    "# Data Awal"
   ]
  },
  {
   "cell_type": "code",
   "execution_count": 3,
   "metadata": {},
   "outputs": [
    {
     "name": "stdout",
     "output_type": "stream",
     "text": [
      "01   Lia   30   6.0   750000.0\n",
      "02   Iwan   48   17.0   1500000.0\n",
      "03   Sari   36   14.0   1255000.0\n",
      "04   Andi   37   4.0   1040000.0\n",
      "05   Budi   42   12.0   950000.0\n",
      "06   Amir   39   13.0   1600000.0\n",
      "07   Rian   37   5.0   1250000.0\n",
      "08   Kiki   32   1.0   550000.0\n",
      "09   Alda   35   3.0   735000.0\n",
      "10   Yoga   25   2.0   860000.0\n"
     ]
    }
   ],
   "source": [
    "sql.execute(\"SELECT * FROM karyawan\")\n",
    "for row in sql.fetchall() :\n",
    "    print(row[0], \" \", row[1], \" \", row[2], \" \", row[3], \" \", row[4])"
   ]
  },
  {
   "cell_type": "markdown",
   "metadata": {},
   "source": [
    "# Fungsi Fuzzy Umur         "
   ]
  },
  {
   "cell_type": "code",
   "execution_count": 4,
   "metadata": {},
   "outputs": [],
   "source": [
    "def _muda(umur):\n",
    "    if umur <= 30:\n",
    "        return 1\n",
    "    if umur >= 40:\n",
    "        return 0\n",
    "    if umur > 30 and umur < 40:\n",
    "        return (40 - umur) / 10\n",
    "\n",
    "def _parobaya(umur):\n",
    "    if umur <= 35 or umur >= 50:\n",
    "        return 0\n",
    "    if umur > 35 and umur < 45:\n",
    "        return (umur - 35)/ 10\n",
    "    if umur > 45 and umur < 50:\n",
    "        return (50 - umur) / 5\n",
    "def _tua(umur):\n",
    "    if umur <= 40:\n",
    "        return 0\n",
    "    if umur >= 50:\n",
    "        return 1\n",
    "    if umur > 40 and umur < 50:\n",
    "        return (umur - 40) / 10\n",
    "\n",
    "def predict_Umur(umur):\n",
    "    muda = _muda(umur)\n",
    "    parobaya = _parobaya(umur)\n",
    "    tua = _tua(umur)\n",
    "\n",
    "    return muda, parobaya, tua"
   ]
  },
  {
   "cell_type": "markdown",
   "metadata": {},
   "source": [
    "# Fungsi Fuzzy Masa Kerja"
   ]
  },
  {
   "cell_type": "code",
   "execution_count": 5,
   "metadata": {},
   "outputs": [],
   "source": [
    "def _baru(masakerja):\n",
    "    if masakerja <= 5:\n",
    "        return 1\n",
    "    if masakerja >= 15:\n",
    "        return 0\n",
    "    if masakerja > 5 or masakerja < 15:\n",
    "        return (15 - masakerja)/10\n",
    "\n",
    "\n",
    "def _lama(masakerja):\n",
    "    if masakerja <= 10:\n",
    "        return 0\n",
    "    if masakerja >= 25:\n",
    "        return 1\n",
    "    if masakerja > 10 or masakerja < 25:\n",
    "        return (masakerja - 10)/15\n",
    "\n",
    "def predict_MasaKerja(masakerja):\n",
    "    baru = _baru(masakerja)\n",
    "    lama = _lama(masakerja)\n",
    "    return baru, lama"
   ]
  },
  {
   "cell_type": "markdown",
   "metadata": {},
   "source": [
    "# Fungsi Fuzzy Gaji"
   ]
  },
  {
   "cell_type": "code",
   "execution_count": 6,
   "metadata": {},
   "outputs": [],
   "source": [
    "def _rendah(gaji):\n",
    "    if gaji <= 300000:\n",
    "        return 1\n",
    "    if gaji >=800000:\n",
    "        return 0\n",
    "    if gaji > 300000 or gaji < 800000:\n",
    "        return (800000 - gaji) / 500000\n",
    "\n",
    "def _sedang(gaji):\n",
    "    if gaji <= 500000 or gaji >= 1500000:\n",
    "        return 0\n",
    "    if gaji> 500000 and gaji < 1000000:\n",
    "        return (gaji - 500000)/ 500000\n",
    "    if gaji > 1000000 and gaji < 1500000:\n",
    "        return (1500000 - gaji) / 500000\n",
    "\n",
    "def _tinggi(gaji):\n",
    "    if gaji <= 1000000:\n",
    "        return 0\n",
    "    if gaji >=2000000:\n",
    "        return 1\n",
    "    if gaji > 1000000 or gaji < 2000000:\n",
    "        return (gaji - 1000000) / 1000000\n",
    "\n",
    "def predict_Gaji(gaji):       \n",
    "    rendah = _rendah(gaji)\n",
    "    sedang = _sedang(gaji)\n",
    "    tinggi = _tinggi(gaji)\n",
    "    return rendah, sedang, tinggi"
   ]
  },
  {
   "cell_type": "markdown",
   "metadata": {},
   "source": [
    "# Membuat Tabel"
   ]
  },
  {
   "cell_type": "code",
   "execution_count": 20,
   "metadata": {},
   "outputs": [],
   "source": [
    "from beautifultable import BeautifulTable\n",
    "\n",
    "table_umur = BeautifulTable()\n",
    "\n",
    "table_masakerja = BeautifulTable()\n",
    "\n",
    "table_gaji = BeautifulTable()\n",
    "\n",
    "table = BeautifulTable()"
   ]
  },
  {
   "cell_type": "markdown",
   "metadata": {},
   "source": [
    "# Fuzzy Umur"
   ]
  },
  {
   "cell_type": "code",
   "execution_count": 8,
   "metadata": {},
   "outputs": [
    {
     "name": "stdout",
     "output_type": "stream",
     "text": [
      "+----+------+------+------+----------+-----+\n",
      "| No | Nama | Umur | Muda | Parobaya | Tua |\n",
      "+----+------+------+------+----------+-----+\n",
      "| 1  | Lia  |  30  |  1   |    0     |  0  |\n",
      "+----+------+------+------+----------+-----+\n",
      "| 2  | Iwan |  48  |  0   |   0.4    | 0.8 |\n",
      "+----+------+------+------+----------+-----+\n",
      "| 3  | Sari |  36  | 0.4  |   0.1    |  0  |\n",
      "+----+------+------+------+----------+-----+\n",
      "| 4  | Andi |  37  | 0.3  |   0.2    |  0  |\n",
      "+----+------+------+------+----------+-----+\n",
      "| 5  | Budi |  42  |  0   |   0.7    | 0.2 |\n",
      "+----+------+------+------+----------+-----+\n",
      "| 6  | Amir |  39  | 0.1  |   0.4    |  0  |\n",
      "+----+------+------+------+----------+-----+\n",
      "| 7  | Rian |  37  | 0.3  |   0.2    |  0  |\n",
      "+----+------+------+------+----------+-----+\n",
      "| 8  | Kiki |  32  | 0.8  |    0     |  0  |\n",
      "+----+------+------+------+----------+-----+\n",
      "| 9  | Alda |  35  | 0.5  |    0     |  0  |\n",
      "+----+------+------+------+----------+-----+\n",
      "| 10 | Yoga |  25  |  1   |    0     |  0  |\n",
      "+----+------+------+------+----------+-----+\n"
     ]
    }
   ],
   "source": [
    "sql.execute(\"SELECT * FROM karyawan\")\n",
    "\n",
    "header_umur = [\"No\",\"Nama\",\"Umur\",\"Muda\",\"Parobaya\",\"Tua\"]\n",
    "table_umur.column_headers = header_umur\n",
    "\n",
    "for row in sql.fetchall() :\n",
    "    muda, parobaya, tua = predict_Umur(row[2])\n",
    "    #print(row[0], \" \", row[1], \" \", row[2], \" \", row[3], \" \", row[4], \" \", muda, \" \", parobaya, \" \", tua)\n",
    "    table_umur.append_row([row[0], row[1], row[2], muda, parobaya, tua])\n",
    "\n",
    "print(table_umur)"
   ]
  },
  {
   "cell_type": "markdown",
   "metadata": {},
   "source": [
    "# Fuzzy Masa Kerja"
   ]
  },
  {
   "cell_type": "code",
   "execution_count": 9,
   "metadata": {},
   "outputs": [
    {
     "name": "stdout",
     "output_type": "stream",
     "text": [
      "+----+------+------------+------+-------+\n",
      "| No | Nama | Masa Kerja | Baru | Lama  |\n",
      "+----+------+------------+------+-------+\n",
      "| 1  | Lia  |     6      | 0.9  |   0   |\n",
      "+----+------+------------+------+-------+\n",
      "| 2  | Iwan |     17     |  0   | 0.467 |\n",
      "+----+------+------------+------+-------+\n",
      "| 3  | Sari |     14     | 0.1  | 0.267 |\n",
      "+----+------+------------+------+-------+\n",
      "| 4  | Andi |     4      |  1   |   0   |\n",
      "+----+------+------------+------+-------+\n",
      "| 5  | Budi |     12     | 0.3  | 0.133 |\n",
      "+----+------+------------+------+-------+\n",
      "| 6  | Amir |     13     | 0.2  |  0.2  |\n",
      "+----+------+------------+------+-------+\n",
      "| 7  | Rian |     5      |  1   |   0   |\n",
      "+----+------+------------+------+-------+\n",
      "| 8  | Kiki |     1      |  1   |   0   |\n",
      "+----+------+------------+------+-------+\n",
      "| 9  | Alda |     3      |  1   |   0   |\n",
      "+----+------+------------+------+-------+\n",
      "| 10 | Yoga |     2      |  1   |   0   |\n",
      "+----+------+------------+------+-------+\n"
     ]
    }
   ],
   "source": [
    "sql.execute(\"SELECT * FROM karyawan\")\n",
    "\n",
    "header_masakerja = [\"No\",\"Nama\",\"Masa Kerja\",\"Baru\",\"Lama\"]\n",
    "table_masakerja.column_headers = header_masakerja\n",
    "\n",
    "for row in sql.fetchall() :\n",
    "    baru, lama = predict_MasaKerja(row[3])\n",
    "    table_masakerja.append_row([row[0], row[1], row[3], baru, lama])\n",
    "\n",
    "print(table_masakerja)"
   ]
  },
  {
   "cell_type": "markdown",
   "metadata": {},
   "source": [
    "# Fuzzy Gaji"
   ]
  },
  {
   "cell_type": "code",
   "execution_count": 10,
   "metadata": {},
   "outputs": [
    {
     "name": "stdout",
     "output_type": "stream",
     "text": [
      "+----+------+---------+--------+--------+--------+\n",
      "| No | Nama |  Gaji   | Rendah | Sedang | Tinggi |\n",
      "+----+------+---------+--------+--------+--------+\n",
      "| 1  | Lia  | 750000  |  0.1   |  0.5   |   0    |\n",
      "+----+------+---------+--------+--------+--------+\n",
      "| 2  | Iwan | 1500000 |   0    |   0    |  0.5   |\n",
      "+----+------+---------+--------+--------+--------+\n",
      "| 3  | Sari | 1255000 |   0    |  0.49  | 0.255  |\n",
      "+----+------+---------+--------+--------+--------+\n",
      "| 4  | Andi | 1040000 |   0    |  0.92  |  0.04  |\n",
      "+----+------+---------+--------+--------+--------+\n",
      "| 5  | Budi | 950000  |   0    |  0.9   |   0    |\n",
      "+----+------+---------+--------+--------+--------+\n",
      "| 6  | Amir | 1600000 |   0    |   0    |  0.6   |\n",
      "+----+------+---------+--------+--------+--------+\n",
      "| 7  | Rian | 1250000 |   0    |  0.5   |  0.25  |\n",
      "+----+------+---------+--------+--------+--------+\n",
      "| 8  | Kiki | 550000  |  0.5   |  0.1   |   0    |\n",
      "+----+------+---------+--------+--------+--------+\n",
      "| 9  | Alda | 735000  |  0.13  |  0.47  |   0    |\n",
      "+----+------+---------+--------+--------+--------+\n",
      "| 10 | Yoga | 860000  |   0    |  0.72  |   0    |\n",
      "+----+------+---------+--------+--------+--------+\n"
     ]
    }
   ],
   "source": [
    "sql.execute(\"SELECT * FROM karyawan\")\n",
    "\n",
    "header_gaji = [\"No\",\"Nama\",\"Gaji\",\"Rendah\",\"Sedang\",\"Tinggi\"]\n",
    "table_gaji.column_headers = header_gaji\n",
    "\n",
    "for row in sql.fetchall() :\n",
    "    rendah, sedang, tinggi = predict_Gaji(row[4])\n",
    "    table_gaji.append_row([row[0], row[1], row[4], rendah, sedang, tinggi])\n",
    "\n",
    "print(table_gaji)"
   ]
  },
  {
   "cell_type": "markdown",
   "metadata": {},
   "source": [
    "# Fuzzy umur muda dan gaji tinggi"
   ]
  },
  {
   "cell_type": "code",
   "execution_count": 19,
   "metadata": {},
   "outputs": [
    {
     "name": "stdout",
     "output_type": "stream",
     "text": [
      "+----+------+------+---------+------+--------+---------------------------------+\n",
      "| No | Nama | Umur |  Gaji   | Muda | Tinggi |          Muda & Tinggi          |\n",
      "+----+------+------+---------+------+--------+---------------------------------+\n",
      "| 1  | Lia  |  30  | 750000  |  1   |   0    |                0                |\n",
      "+----+------+------+---------+------+--------+---------------------------------+\n",
      "| 2  | Iwan |  48  | 1500000 |  0   |  0.5   |                0                |\n",
      "+----+------+------+---------+------+--------+---------------------------------+\n",
      "| 3  | Sari |  36  | 1255000 | 0.4  | 0.255  |              0.255              |\n",
      "+----+------+------+---------+------+--------+---------------------------------+\n",
      "| 4  | Andi |  37  | 1040000 | 0.3  |  0.04  |              0.04               |\n",
      "+----+------+------+---------+------+--------+---------------------------------+\n",
      "| 5  | Budi |  42  | 950000  |  0   |   0    |                0                |\n",
      "+----+------+------+---------+------+--------+---------------------------------+\n",
      "| 6  | Amir |  39  | 1600000 | 0.1  |  0.6   |               0.1               |\n",
      "+----+------+------+---------+------+--------+---------------------------------+\n",
      "| 7  | Rian |  37  | 1250000 | 0.3  |  0.25  |              0.25               |\n",
      "+----+------+------+---------+------+--------+---------------------------------+\n",
      "| 8  | Kiki |  32  | 550000  | 0.8  |   0    |                0                |\n",
      "+----+------+------+---------+------+--------+---------------------------------+\n",
      "| 9  | Alda |  35  | 735000  | 0.5  |   0    |                0                |\n",
      "+----+------+------+---------+------+--------+---------------------------------+\n",
      "| 10 | Yoga |  25  | 860000  |  1   |   0    |                0                |\n",
      "+----+------+------+---------+------+--------+---------------------------------+\n"
     ]
    }
   ],
   "source": [
    "sql.execute(\"SELECT * FROM karyawan\")\n",
    "\n",
    "header = [\"No\",\"Nama\",\"Umur\",\"Gaji\",\"Muda\",\"Tinggi\",\"Muda & Tinggi\"]\n",
    "table.column_headers = header\n",
    "\n",
    "for row in sql.fetchall() :\n",
    "    muda, parobaya, tua = predict_Umur(row[2])\n",
    "    rendah, sedang, tinggi = predict_Gaji(row[4])\n",
    "    table.append_row([row[0], row[1],row[2],row[4],muda,tinggi,min(muda,tinggi)])\n",
    "\n",
    "print(table)"
   ]
  },
  {
   "cell_type": "markdown",
   "metadata": {},
   "source": [
    "# Fuzzy umur muda dan gaji tinggi"
   ]
  },
  {
   "cell_type": "code",
   "execution_count": 21,
   "metadata": {},
   "outputs": [
    {
     "name": "stdout",
     "output_type": "stream",
     "text": [
      "+----+------+------+---------+------+--------+---------------------------------+\n",
      "| No | Nama | Umur |  Gaji   | Muda | Tinggi |          Muda / Tinggi          |\n",
      "+----+------+------+---------+------+--------+---------------------------------+\n",
      "| 1  | Lia  |  30  | 750000  |  1   |   0    |                1                |\n",
      "+----+------+------+---------+------+--------+---------------------------------+\n",
      "| 2  | Iwan |  48  | 1500000 |  0   |  0.5   |               0.5               |\n",
      "+----+------+------+---------+------+--------+---------------------------------+\n",
      "| 3  | Sari |  36  | 1255000 | 0.4  | 0.255  |               0.4               |\n",
      "+----+------+------+---------+------+--------+---------------------------------+\n",
      "| 4  | Andi |  37  | 1040000 | 0.3  |  0.04  |               0.3               |\n",
      "+----+------+------+---------+------+--------+---------------------------------+\n",
      "| 5  | Budi |  42  | 950000  |  0   |   0    |                0                |\n",
      "+----+------+------+---------+------+--------+---------------------------------+\n",
      "| 6  | Amir |  39  | 1600000 | 0.1  |  0.6   |               0.6               |\n",
      "+----+------+------+---------+------+--------+---------------------------------+\n",
      "| 7  | Rian |  37  | 1250000 | 0.3  |  0.25  |               0.3               |\n",
      "+----+------+------+---------+------+--------+---------------------------------+\n",
      "| 8  | Kiki |  32  | 550000  | 0.8  |   0    |               0.8               |\n",
      "+----+------+------+---------+------+--------+---------------------------------+\n",
      "| 9  | Alda |  35  | 735000  | 0.5  |   0    |               0.5               |\n",
      "+----+------+------+---------+------+--------+---------------------------------+\n",
      "| 10 | Yoga |  25  | 860000  |  1   |   0    |                1                |\n",
      "+----+------+------+---------+------+--------+---------------------------------+\n"
     ]
    }
   ],
   "source": [
    "sql.execute(\"SELECT * FROM karyawan\")\n",
    "\n",
    "header = [\"No\",\"Nama\",\"Umur\",\"Gaji\",\"Muda\",\"Tinggi\",\"Muda / Tinggi\"]\n",
    "table.column_headers = header\n",
    "\n",
    "for row in sql.fetchall() :\n",
    "    muda, parobaya, tua = predict_Umur(row[2])\n",
    "    rendah, sedang, tinggi = predict_Gaji(row[4])\n",
    "    table.append_row([row[0], row[1],row[2],row[4],muda,tinggi,max(muda,tinggi)])\n",
    "\n",
    "print(table)"
   ]
  },
  {
   "cell_type": "markdown",
   "metadata": {},
   "source": [
    "# Murah Semua"
   ]
  }
 ],
 "metadata": {
  "kernelspec": {
   "display_name": "Python 3",
   "language": "python",
   "name": "python3"
  },
  "language_info": {
   "codemirror_mode": {
    "name": "ipython",
    "version": 3
   },
   "file_extension": ".py",
   "mimetype": "text/x-python",
   "name": "python",
   "nbconvert_exporter": "python",
   "pygments_lexer": "ipython3",
   "version": "3.5.4"
  }
 },
 "nbformat": 4,
 "nbformat_minor": 2
}
